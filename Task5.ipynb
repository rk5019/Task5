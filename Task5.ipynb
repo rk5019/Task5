{
  "nbformat": 4,
  "nbformat_minor": 0,
  "metadata": {
    "colab": {
      "name": "Task5.ipynb",
      "provenance": [],
      "collapsed_sections": []
    },
    "kernelspec": {
      "name": "python3",
      "display_name": "Python 3"
    },
    "language_info": {
      "name": "python"
    }
  },
  "cells": [
    {
      "cell_type": "markdown",
      "source": [
        "Begin by loading up the data and previewing it"
      ],
      "metadata": {
        "id": "-DOxZRZ4QZrg"
      }
    },
    {
      "cell_type": "code",
      "execution_count": 48,
      "metadata": {
        "id": "p0QhUa8TOnIq"
      },
      "outputs": [],
      "source": [
        "import pandas as pd\n",
        "import numpy as np\n",
        "\n",
        "users = pd.read_csv('/content/takehome_users.csv', encoding='latin-1',parse_dates=True)\n",
        "engage = pd.read_csv('/content/takehome_user_engagement.csv', parse_dates=True)"
      ]
    },
    {
      "cell_type": "code",
      "source": [
        "users.head()"
      ],
      "metadata": {
        "colab": {
          "base_uri": "https://localhost:8080/",
          "height": 357
        },
        "id": "aroyBoIZP9yh",
        "outputId": "25b041ec-0c3b-441a-940f-ca5384a914c0"
      },
      "execution_count": 49,
      "outputs": [
        {
          "output_type": "execute_result",
          "data": {
            "text/html": [
              "\n",
              "  <div id=\"df-ab1be575-24cd-4b9b-98a1-20c3d7b5b12a\">\n",
              "    <div class=\"colab-df-container\">\n",
              "      <div>\n",
              "<style scoped>\n",
              "    .dataframe tbody tr th:only-of-type {\n",
              "        vertical-align: middle;\n",
              "    }\n",
              "\n",
              "    .dataframe tbody tr th {\n",
              "        vertical-align: top;\n",
              "    }\n",
              "\n",
              "    .dataframe thead th {\n",
              "        text-align: right;\n",
              "    }\n",
              "</style>\n",
              "<table border=\"1\" class=\"dataframe\">\n",
              "  <thead>\n",
              "    <tr style=\"text-align: right;\">\n",
              "      <th></th>\n",
              "      <th>object_id</th>\n",
              "      <th>creation_time</th>\n",
              "      <th>name</th>\n",
              "      <th>email</th>\n",
              "      <th>creation_source</th>\n",
              "      <th>last_session_creation_time</th>\n",
              "      <th>opted_in_to_mailing_list</th>\n",
              "      <th>enabled_for_marketing_drip</th>\n",
              "      <th>org_id</th>\n",
              "      <th>invited_by_user_id</th>\n",
              "    </tr>\n",
              "  </thead>\n",
              "  <tbody>\n",
              "    <tr>\n",
              "      <th>0</th>\n",
              "      <td>1</td>\n",
              "      <td>22-04-2014 03:53</td>\n",
              "      <td>Clausen August</td>\n",
              "      <td>AugustCClausen@yahoo.com</td>\n",
              "      <td>GUEST_INVITE</td>\n",
              "      <td>1.398139e+09</td>\n",
              "      <td>1</td>\n",
              "      <td>0</td>\n",
              "      <td>11</td>\n",
              "      <td>10803.0</td>\n",
              "    </tr>\n",
              "    <tr>\n",
              "      <th>1</th>\n",
              "      <td>2</td>\n",
              "      <td>15-11-2013 03:45</td>\n",
              "      <td>Poole Matthew</td>\n",
              "      <td>MatthewPoole@gustr.com</td>\n",
              "      <td>ORG_INVITE</td>\n",
              "      <td>1.396238e+09</td>\n",
              "      <td>0</td>\n",
              "      <td>0</td>\n",
              "      <td>1</td>\n",
              "      <td>316.0</td>\n",
              "    </tr>\n",
              "    <tr>\n",
              "      <th>2</th>\n",
              "      <td>3</td>\n",
              "      <td>19-03-2013 23:14</td>\n",
              "      <td>Bottrill Mitchell</td>\n",
              "      <td>MitchellBottrill@gustr.com</td>\n",
              "      <td>ORG_INVITE</td>\n",
              "      <td>1.363735e+09</td>\n",
              "      <td>0</td>\n",
              "      <td>0</td>\n",
              "      <td>94</td>\n",
              "      <td>1525.0</td>\n",
              "    </tr>\n",
              "    <tr>\n",
              "      <th>3</th>\n",
              "      <td>4</td>\n",
              "      <td>21-05-2013 08:09</td>\n",
              "      <td>Clausen Nicklas</td>\n",
              "      <td>NicklasSClausen@yahoo.com</td>\n",
              "      <td>GUEST_INVITE</td>\n",
              "      <td>1.369210e+09</td>\n",
              "      <td>0</td>\n",
              "      <td>0</td>\n",
              "      <td>1</td>\n",
              "      <td>5151.0</td>\n",
              "    </tr>\n",
              "    <tr>\n",
              "      <th>4</th>\n",
              "      <td>5</td>\n",
              "      <td>17-01-2013 10:14</td>\n",
              "      <td>Raw Grace</td>\n",
              "      <td>GraceRaw@yahoo.com</td>\n",
              "      <td>GUEST_INVITE</td>\n",
              "      <td>1.358850e+09</td>\n",
              "      <td>0</td>\n",
              "      <td>0</td>\n",
              "      <td>193</td>\n",
              "      <td>5240.0</td>\n",
              "    </tr>\n",
              "  </tbody>\n",
              "</table>\n",
              "</div>\n",
              "      <button class=\"colab-df-convert\" onclick=\"convertToInteractive('df-ab1be575-24cd-4b9b-98a1-20c3d7b5b12a')\"\n",
              "              title=\"Convert this dataframe to an interactive table.\"\n",
              "              style=\"display:none;\">\n",
              "        \n",
              "  <svg xmlns=\"http://www.w3.org/2000/svg\" height=\"24px\"viewBox=\"0 0 24 24\"\n",
              "       width=\"24px\">\n",
              "    <path d=\"M0 0h24v24H0V0z\" fill=\"none\"/>\n",
              "    <path d=\"M18.56 5.44l.94 2.06.94-2.06 2.06-.94-2.06-.94-.94-2.06-.94 2.06-2.06.94zm-11 1L8.5 8.5l.94-2.06 2.06-.94-2.06-.94L8.5 2.5l-.94 2.06-2.06.94zm10 10l.94 2.06.94-2.06 2.06-.94-2.06-.94-.94-2.06-.94 2.06-2.06.94z\"/><path d=\"M17.41 7.96l-1.37-1.37c-.4-.4-.92-.59-1.43-.59-.52 0-1.04.2-1.43.59L10.3 9.45l-7.72 7.72c-.78.78-.78 2.05 0 2.83L4 21.41c.39.39.9.59 1.41.59.51 0 1.02-.2 1.41-.59l7.78-7.78 2.81-2.81c.8-.78.8-2.07 0-2.86zM5.41 20L4 18.59l7.72-7.72 1.47 1.35L5.41 20z\"/>\n",
              "  </svg>\n",
              "      </button>\n",
              "      \n",
              "  <style>\n",
              "    .colab-df-container {\n",
              "      display:flex;\n",
              "      flex-wrap:wrap;\n",
              "      gap: 12px;\n",
              "    }\n",
              "\n",
              "    .colab-df-convert {\n",
              "      background-color: #E8F0FE;\n",
              "      border: none;\n",
              "      border-radius: 50%;\n",
              "      cursor: pointer;\n",
              "      display: none;\n",
              "      fill: #1967D2;\n",
              "      height: 32px;\n",
              "      padding: 0 0 0 0;\n",
              "      width: 32px;\n",
              "    }\n",
              "\n",
              "    .colab-df-convert:hover {\n",
              "      background-color: #E2EBFA;\n",
              "      box-shadow: 0px 1px 2px rgba(60, 64, 67, 0.3), 0px 1px 3px 1px rgba(60, 64, 67, 0.15);\n",
              "      fill: #174EA6;\n",
              "    }\n",
              "\n",
              "    [theme=dark] .colab-df-convert {\n",
              "      background-color: #3B4455;\n",
              "      fill: #D2E3FC;\n",
              "    }\n",
              "\n",
              "    [theme=dark] .colab-df-convert:hover {\n",
              "      background-color: #434B5C;\n",
              "      box-shadow: 0px 1px 3px 1px rgba(0, 0, 0, 0.15);\n",
              "      filter: drop-shadow(0px 1px 2px rgba(0, 0, 0, 0.3));\n",
              "      fill: #FFFFFF;\n",
              "    }\n",
              "  </style>\n",
              "\n",
              "      <script>\n",
              "        const buttonEl =\n",
              "          document.querySelector('#df-ab1be575-24cd-4b9b-98a1-20c3d7b5b12a button.colab-df-convert');\n",
              "        buttonEl.style.display =\n",
              "          google.colab.kernel.accessAllowed ? 'block' : 'none';\n",
              "\n",
              "        async function convertToInteractive(key) {\n",
              "          const element = document.querySelector('#df-ab1be575-24cd-4b9b-98a1-20c3d7b5b12a');\n",
              "          const dataTable =\n",
              "            await google.colab.kernel.invokeFunction('convertToInteractive',\n",
              "                                                     [key], {});\n",
              "          if (!dataTable) return;\n",
              "\n",
              "          const docLinkHtml = 'Like what you see? Visit the ' +\n",
              "            '<a target=\"_blank\" href=https://colab.research.google.com/notebooks/data_table.ipynb>data table notebook</a>'\n",
              "            + ' to learn more about interactive tables.';\n",
              "          element.innerHTML = '';\n",
              "          dataTable['output_type'] = 'display_data';\n",
              "          await google.colab.output.renderOutput(dataTable, element);\n",
              "          const docLink = document.createElement('div');\n",
              "          docLink.innerHTML = docLinkHtml;\n",
              "          element.appendChild(docLink);\n",
              "        }\n",
              "      </script>\n",
              "    </div>\n",
              "  </div>\n",
              "  "
            ],
            "text/plain": [
              "   object_id     creation_time  ... org_id invited_by_user_id\n",
              "0          1  22-04-2014 03:53  ...     11            10803.0\n",
              "1          2  15-11-2013 03:45  ...      1              316.0\n",
              "2          3  19-03-2013 23:14  ...     94             1525.0\n",
              "3          4  21-05-2013 08:09  ...      1             5151.0\n",
              "4          5  17-01-2013 10:14  ...    193             5240.0\n",
              "\n",
              "[5 rows x 10 columns]"
            ]
          },
          "metadata": {},
          "execution_count": 49
        }
      ]
    },
    {
      "cell_type": "code",
      "source": [
        "engage.head()"
      ],
      "metadata": {
        "colab": {
          "base_uri": "https://localhost:8080/",
          "height": 206
        },
        "id": "z667_rD8QNVJ",
        "outputId": "ee29997a-3a9c-41ec-b8d7-536ddf9e91e0"
      },
      "execution_count": 50,
      "outputs": [
        {
          "output_type": "execute_result",
          "data": {
            "text/html": [
              "\n",
              "  <div id=\"df-cffde861-cb23-4441-84b9-491e08e390d1\">\n",
              "    <div class=\"colab-df-container\">\n",
              "      <div>\n",
              "<style scoped>\n",
              "    .dataframe tbody tr th:only-of-type {\n",
              "        vertical-align: middle;\n",
              "    }\n",
              "\n",
              "    .dataframe tbody tr th {\n",
              "        vertical-align: top;\n",
              "    }\n",
              "\n",
              "    .dataframe thead th {\n",
              "        text-align: right;\n",
              "    }\n",
              "</style>\n",
              "<table border=\"1\" class=\"dataframe\">\n",
              "  <thead>\n",
              "    <tr style=\"text-align: right;\">\n",
              "      <th></th>\n",
              "      <th>time_stamp</th>\n",
              "      <th>user_id</th>\n",
              "      <th>visited</th>\n",
              "    </tr>\n",
              "  </thead>\n",
              "  <tbody>\n",
              "    <tr>\n",
              "      <th>0</th>\n",
              "      <td>22-04-2014 03:53</td>\n",
              "      <td>1</td>\n",
              "      <td>1</td>\n",
              "    </tr>\n",
              "    <tr>\n",
              "      <th>1</th>\n",
              "      <td>15-11-2013 03:45</td>\n",
              "      <td>2</td>\n",
              "      <td>1</td>\n",
              "    </tr>\n",
              "    <tr>\n",
              "      <th>2</th>\n",
              "      <td>29-11-2013 03:45</td>\n",
              "      <td>2</td>\n",
              "      <td>1</td>\n",
              "    </tr>\n",
              "    <tr>\n",
              "      <th>3</th>\n",
              "      <td>09-12-2013 03:45</td>\n",
              "      <td>2</td>\n",
              "      <td>1</td>\n",
              "    </tr>\n",
              "    <tr>\n",
              "      <th>4</th>\n",
              "      <td>25-12-2013 03:45</td>\n",
              "      <td>2</td>\n",
              "      <td>1</td>\n",
              "    </tr>\n",
              "  </tbody>\n",
              "</table>\n",
              "</div>\n",
              "      <button class=\"colab-df-convert\" onclick=\"convertToInteractive('df-cffde861-cb23-4441-84b9-491e08e390d1')\"\n",
              "              title=\"Convert this dataframe to an interactive table.\"\n",
              "              style=\"display:none;\">\n",
              "        \n",
              "  <svg xmlns=\"http://www.w3.org/2000/svg\" height=\"24px\"viewBox=\"0 0 24 24\"\n",
              "       width=\"24px\">\n",
              "    <path d=\"M0 0h24v24H0V0z\" fill=\"none\"/>\n",
              "    <path d=\"M18.56 5.44l.94 2.06.94-2.06 2.06-.94-2.06-.94-.94-2.06-.94 2.06-2.06.94zm-11 1L8.5 8.5l.94-2.06 2.06-.94-2.06-.94L8.5 2.5l-.94 2.06-2.06.94zm10 10l.94 2.06.94-2.06 2.06-.94-2.06-.94-.94-2.06-.94 2.06-2.06.94z\"/><path d=\"M17.41 7.96l-1.37-1.37c-.4-.4-.92-.59-1.43-.59-.52 0-1.04.2-1.43.59L10.3 9.45l-7.72 7.72c-.78.78-.78 2.05 0 2.83L4 21.41c.39.39.9.59 1.41.59.51 0 1.02-.2 1.41-.59l7.78-7.78 2.81-2.81c.8-.78.8-2.07 0-2.86zM5.41 20L4 18.59l7.72-7.72 1.47 1.35L5.41 20z\"/>\n",
              "  </svg>\n",
              "      </button>\n",
              "      \n",
              "  <style>\n",
              "    .colab-df-container {\n",
              "      display:flex;\n",
              "      flex-wrap:wrap;\n",
              "      gap: 12px;\n",
              "    }\n",
              "\n",
              "    .colab-df-convert {\n",
              "      background-color: #E8F0FE;\n",
              "      border: none;\n",
              "      border-radius: 50%;\n",
              "      cursor: pointer;\n",
              "      display: none;\n",
              "      fill: #1967D2;\n",
              "      height: 32px;\n",
              "      padding: 0 0 0 0;\n",
              "      width: 32px;\n",
              "    }\n",
              "\n",
              "    .colab-df-convert:hover {\n",
              "      background-color: #E2EBFA;\n",
              "      box-shadow: 0px 1px 2px rgba(60, 64, 67, 0.3), 0px 1px 3px 1px rgba(60, 64, 67, 0.15);\n",
              "      fill: #174EA6;\n",
              "    }\n",
              "\n",
              "    [theme=dark] .colab-df-convert {\n",
              "      background-color: #3B4455;\n",
              "      fill: #D2E3FC;\n",
              "    }\n",
              "\n",
              "    [theme=dark] .colab-df-convert:hover {\n",
              "      background-color: #434B5C;\n",
              "      box-shadow: 0px 1px 3px 1px rgba(0, 0, 0, 0.15);\n",
              "      filter: drop-shadow(0px 1px 2px rgba(0, 0, 0, 0.3));\n",
              "      fill: #FFFFFF;\n",
              "    }\n",
              "  </style>\n",
              "\n",
              "      <script>\n",
              "        const buttonEl =\n",
              "          document.querySelector('#df-cffde861-cb23-4441-84b9-491e08e390d1 button.colab-df-convert');\n",
              "        buttonEl.style.display =\n",
              "          google.colab.kernel.accessAllowed ? 'block' : 'none';\n",
              "\n",
              "        async function convertToInteractive(key) {\n",
              "          const element = document.querySelector('#df-cffde861-cb23-4441-84b9-491e08e390d1');\n",
              "          const dataTable =\n",
              "            await google.colab.kernel.invokeFunction('convertToInteractive',\n",
              "                                                     [key], {});\n",
              "          if (!dataTable) return;\n",
              "\n",
              "          const docLinkHtml = 'Like what you see? Visit the ' +\n",
              "            '<a target=\"_blank\" href=https://colab.research.google.com/notebooks/data_table.ipynb>data table notebook</a>'\n",
              "            + ' to learn more about interactive tables.';\n",
              "          element.innerHTML = '';\n",
              "          dataTable['output_type'] = 'display_data';\n",
              "          await google.colab.output.renderOutput(dataTable, element);\n",
              "          const docLink = document.createElement('div');\n",
              "          docLink.innerHTML = docLinkHtml;\n",
              "          element.appendChild(docLink);\n",
              "        }\n",
              "      </script>\n",
              "    </div>\n",
              "  </div>\n",
              "  "
            ],
            "text/plain": [
              "         time_stamp  user_id  visited\n",
              "0  22-04-2014 03:53        1        1\n",
              "1  15-11-2013 03:45        2        1\n",
              "2  29-11-2013 03:45        2        1\n",
              "3  09-12-2013 03:45        2        1\n",
              "4  25-12-2013 03:45        2        1"
            ]
          },
          "metadata": {},
          "execution_count": 50
        }
      ]
    },
    {
      "cell_type": "markdown",
      "source": [
        "It looks like to label the users as active, the activity log must be sampled per user and their activity must be determined."
      ],
      "metadata": {
        "id": "M2efr_DEQpsO"
      }
    },
    {
      "cell_type": "markdown",
      "source": [
        "Label Users as adopted"
      ],
      "metadata": {
        "id": "3n8ZSl9GQwAv"
      }
    },
    {
      "cell_type": "code",
      "source": [
        "import datetime\n",
        "\n",
        "#set the time_stamp to datetime and the set it as the index\n",
        "engage.time_stamp = pd.to_datetime(engage.time_stamp)\n",
        "engage = engage.set_index('time_stamp', drop= True)"
      ],
      "metadata": {
        "id": "-bs4CDveQzUd"
      },
      "execution_count": 51,
      "outputs": []
    },
    {
      "cell_type": "code",
      "source": [
        "from datetime import timedelta\n",
        "\n",
        "def label_adopted(x):    \n",
        "    \"takes a users input and returns whether or not they have been active within any 7-day period\"\n",
        "    df_temp = engage.loc[engage['user_id'] == x] #select out rows of this user\n",
        "    df_temp = df_temp.resample('D').mean().dropna() #resample to show if active in a day. .mean() is just of 1\n",
        "    adopted = 0\n",
        "    for i in range(len(df_temp)-2): #loop over active days till the second to last day\n",
        "        if df_temp.index[i + 2] - df_temp.index[i] <= timedelta(days=7): # difference between every 1st and 3rd day\n",
        "            adopted = 1\n",
        "            break\n",
        "        else:\n",
        "            adopted = 0\n",
        "    return adopted\n",
        "#apply to user df to label users as adopted=true \n",
        "users['adopted_user'] = users['object_id'].apply(label_adopted)\n",
        "print(sum(users['adopted_user']))\n",
        "print(sum(users.adopted_user)/len(users.adopted_user))"
      ],
      "metadata": {
        "colab": {
          "base_uri": "https://localhost:8080/"
        },
        "id": "7wPfIjuoZCKo",
        "outputId": "84dcdc93-cdc3-4880-b3b0-c8b120363e84"
      },
      "execution_count": 52,
      "outputs": [
        {
          "output_type": "stream",
          "name": "stdout",
          "text": [
            "1518\n",
            "0.1265\n"
          ]
        }
      ]
    },
    {
      "cell_type": "markdown",
      "source": [
        "So it appears that there are only 1518 active users in the dataframe, about 12.65% of the total users. Keep this in mind later since it means that the classes will need to be balanced later for analysis."
      ],
      "metadata": {
        "id": "DrVHctonRn2p"
      }
    },
    {
      "cell_type": "markdown",
      "source": [
        "Data Wrangling\n",
        "\n",
        "More data wrangling. Convert all time stamps to datetime objects."
      ],
      "metadata": {
        "id": "ApxRTEsOSM6M"
      }
    },
    {
      "cell_type": "code",
      "source": [
        "# set creation_time\n",
        "users.creation_time = pd.to_datetime(users.creation_time)\n",
        "#last_session_creation_time is a unix time stamp, so use map to convert to datetime\n",
        "users['last_session_creation_time'] = users['last_session_creation_time'].map(lambda data: \n",
        "                                    datetime.datetime.fromtimestamp(int(data)).strftime('%Y-%m-%d %H:%M:%S'),\n",
        "                                                                              na_action='ignore')"
      ],
      "metadata": {
        "id": "mBtIZjxHSXBd"
      },
      "execution_count": 53,
      "outputs": []
    },
    {
      "cell_type": "markdown",
      "source": [
        "Subtract thecreation_time from the last_session_creation_time to create a feature that combines the two in a meaningful way. This will give us feature usage_length that basically indicates how long a user has been active."
      ],
      "metadata": {
        "id": "yfahiUxNSf1l"
      }
    },
    {
      "cell_type": "code",
      "source": [
        "#now set that to datetime\n",
        "users['last_session_creation_time'] = pd.to_datetime(users['last_session_creation_time'])\n",
        "#subtract to find time active\n",
        "users['usage_length'] = users['last_session_creation_time'] - users['creation_time']\n",
        "#lets settle for seconds instead of days to make the time differences more distinct\n",
        "users['usage_length'] = [x.total_seconds() for x in users['usage_length']]"
      ],
      "metadata": {
        "id": "Vv2Wu9lmSluD"
      },
      "execution_count": 54,
      "outputs": []
    },
    {
      "cell_type": "markdown",
      "source": [
        "Looking good so far, but we can also use email domain as a feature as well. There are only a few main ones, so I will label the less popular domains as other."
      ],
      "metadata": {
        "id": "sn1VTbZ3Sr1f"
      }
    },
    {
      "cell_type": "code",
      "source": [
        "users['email_provider'] = [x.split('@')[1] for x in users.email]#select out the domain\n",
        "top_emails = users.email_provider.value_counts().index[:6]\n",
        "#label anything not in the top 5 as other\n",
        "users['email_provider'] = [x if x in top_emails else 'other' for x in users.email_provider]"
      ],
      "metadata": {
        "id": "J-cOLsHGS99m"
      },
      "execution_count": 55,
      "outputs": []
    },
    {
      "cell_type": "markdown",
      "source": [
        "The same can be done with users, but first the emtpy values must be filled to be categorized."
      ],
      "metadata": {
        "id": "NNvcQcJyTF8e"
      }
    },
    {
      "cell_type": "code",
      "source": [
        "users.invited_by_user_id = users.invited_by_user_id.fillna(0)"
      ],
      "metadata": {
        "id": "nwsV3OqTTI1W"
      },
      "execution_count": 56,
      "outputs": []
    },
    {
      "cell_type": "markdown",
      "source": [
        "Very quickly, remove the columns containing features that won't be useful for analysis. This includes object_id creation_time name email and last_session_creation_time."
      ],
      "metadata": {
        "id": "JuGA6o1fTPPv"
      }
    },
    {
      "cell_type": "code",
      "source": [
        "feature_df = users.iloc[:,4:]\n",
        "feature_df = feature_df.drop('last_session_creation_time', axis=1)\n",
        "feature_df['usage_length'] = feature_df['usage_length'].fillna(0)"
      ],
      "metadata": {
        "id": "Exe3HWY4TSqn"
      },
      "execution_count": 57,
      "outputs": []
    },
    {
      "cell_type": "markdown",
      "source": [
        "Using sklearn.preprocessing.LabelEncoder we can easily engineer categorical labels for each categorical feature."
      ],
      "metadata": {
        "id": "r2GtLjhzTe5u"
      }
    },
    {
      "cell_type": "code",
      "source": [
        "from sklearn.preprocessing import LabelEncoder\n",
        "\n",
        "gle = LabelEncoder()\n",
        "creation_labels = gle.fit_transform(users['creation_source'])\n",
        "feature_df.creation_source = creation_labels\n",
        "\n",
        "org_id_labels = gle.fit_transform(users['org_id'])\n",
        "feature_df.org_id = org_id_labels\n",
        "\n",
        "invited_labels = gle.fit_transform(users['invited_by_user_id'])\n",
        "feature_df.org_id = invited_labels\n",
        "\n",
        "email_labels = gle.fit_transform(users['email_provider'])\n",
        "feature_df.email_provider = email_labels"
      ],
      "metadata": {
        "id": "5ltVgu6HThw1"
      },
      "execution_count": 58,
      "outputs": []
    },
    {
      "cell_type": "code",
      "source": [
        "feature_df.head()"
      ],
      "metadata": {
        "colab": {
          "base_uri": "https://localhost:8080/",
          "height": 250
        },
        "id": "N8F5PkjaToNJ",
        "outputId": "4e51e8c7-e9c4-406d-ad2e-d5bead7340b5"
      },
      "execution_count": 59,
      "outputs": [
        {
          "output_type": "execute_result",
          "data": {
            "text/html": [
              "\n",
              "  <div id=\"df-4f684236-886d-4629-a93e-6f988a678439\">\n",
              "    <div class=\"colab-df-container\">\n",
              "      <div>\n",
              "<style scoped>\n",
              "    .dataframe tbody tr th:only-of-type {\n",
              "        vertical-align: middle;\n",
              "    }\n",
              "\n",
              "    .dataframe tbody tr th {\n",
              "        vertical-align: top;\n",
              "    }\n",
              "\n",
              "    .dataframe thead th {\n",
              "        text-align: right;\n",
              "    }\n",
              "</style>\n",
              "<table border=\"1\" class=\"dataframe\">\n",
              "  <thead>\n",
              "    <tr style=\"text-align: right;\">\n",
              "      <th></th>\n",
              "      <th>creation_source</th>\n",
              "      <th>opted_in_to_mailing_list</th>\n",
              "      <th>enabled_for_marketing_drip</th>\n",
              "      <th>org_id</th>\n",
              "      <th>invited_by_user_id</th>\n",
              "      <th>adopted_user</th>\n",
              "      <th>usage_length</th>\n",
              "      <th>email_provider</th>\n",
              "    </tr>\n",
              "  </thead>\n",
              "  <tbody>\n",
              "    <tr>\n",
              "      <th>0</th>\n",
              "      <td>0</td>\n",
              "      <td>1</td>\n",
              "      <td>0</td>\n",
              "      <td>2325</td>\n",
              "      <td>10803.0</td>\n",
              "      <td>0</td>\n",
              "      <td>30.0</td>\n",
              "      <td>6</td>\n",
              "    </tr>\n",
              "    <tr>\n",
              "      <th>1</th>\n",
              "      <td>1</td>\n",
              "      <td>0</td>\n",
              "      <td>0</td>\n",
              "      <td>56</td>\n",
              "      <td>316.0</td>\n",
              "      <td>0</td>\n",
              "      <td>11750404.0</td>\n",
              "      <td>2</td>\n",
              "    </tr>\n",
              "    <tr>\n",
              "      <th>2</th>\n",
              "      <td>1</td>\n",
              "      <td>0</td>\n",
              "      <td>0</td>\n",
              "      <td>298</td>\n",
              "      <td>1525.0</td>\n",
              "      <td>0</td>\n",
              "      <td>52.0</td>\n",
              "      <td>2</td>\n",
              "    </tr>\n",
              "    <tr>\n",
              "      <th>3</th>\n",
              "      <td>0</td>\n",
              "      <td>0</td>\n",
              "      <td>0</td>\n",
              "      <td>1104</td>\n",
              "      <td>5151.0</td>\n",
              "      <td>0</td>\n",
              "      <td>86428.0</td>\n",
              "      <td>6</td>\n",
              "    </tr>\n",
              "    <tr>\n",
              "      <th>4</th>\n",
              "      <td>0</td>\n",
              "      <td>0</td>\n",
              "      <td>0</td>\n",
              "      <td>1127</td>\n",
              "      <td>5240.0</td>\n",
              "      <td>0</td>\n",
              "      <td>432020.0</td>\n",
              "      <td>6</td>\n",
              "    </tr>\n",
              "  </tbody>\n",
              "</table>\n",
              "</div>\n",
              "      <button class=\"colab-df-convert\" onclick=\"convertToInteractive('df-4f684236-886d-4629-a93e-6f988a678439')\"\n",
              "              title=\"Convert this dataframe to an interactive table.\"\n",
              "              style=\"display:none;\">\n",
              "        \n",
              "  <svg xmlns=\"http://www.w3.org/2000/svg\" height=\"24px\"viewBox=\"0 0 24 24\"\n",
              "       width=\"24px\">\n",
              "    <path d=\"M0 0h24v24H0V0z\" fill=\"none\"/>\n",
              "    <path d=\"M18.56 5.44l.94 2.06.94-2.06 2.06-.94-2.06-.94-.94-2.06-.94 2.06-2.06.94zm-11 1L8.5 8.5l.94-2.06 2.06-.94-2.06-.94L8.5 2.5l-.94 2.06-2.06.94zm10 10l.94 2.06.94-2.06 2.06-.94-2.06-.94-.94-2.06-.94 2.06-2.06.94z\"/><path d=\"M17.41 7.96l-1.37-1.37c-.4-.4-.92-.59-1.43-.59-.52 0-1.04.2-1.43.59L10.3 9.45l-7.72 7.72c-.78.78-.78 2.05 0 2.83L4 21.41c.39.39.9.59 1.41.59.51 0 1.02-.2 1.41-.59l7.78-7.78 2.81-2.81c.8-.78.8-2.07 0-2.86zM5.41 20L4 18.59l7.72-7.72 1.47 1.35L5.41 20z\"/>\n",
              "  </svg>\n",
              "      </button>\n",
              "      \n",
              "  <style>\n",
              "    .colab-df-container {\n",
              "      display:flex;\n",
              "      flex-wrap:wrap;\n",
              "      gap: 12px;\n",
              "    }\n",
              "\n",
              "    .colab-df-convert {\n",
              "      background-color: #E8F0FE;\n",
              "      border: none;\n",
              "      border-radius: 50%;\n",
              "      cursor: pointer;\n",
              "      display: none;\n",
              "      fill: #1967D2;\n",
              "      height: 32px;\n",
              "      padding: 0 0 0 0;\n",
              "      width: 32px;\n",
              "    }\n",
              "\n",
              "    .colab-df-convert:hover {\n",
              "      background-color: #E2EBFA;\n",
              "      box-shadow: 0px 1px 2px rgba(60, 64, 67, 0.3), 0px 1px 3px 1px rgba(60, 64, 67, 0.15);\n",
              "      fill: #174EA6;\n",
              "    }\n",
              "\n",
              "    [theme=dark] .colab-df-convert {\n",
              "      background-color: #3B4455;\n",
              "      fill: #D2E3FC;\n",
              "    }\n",
              "\n",
              "    [theme=dark] .colab-df-convert:hover {\n",
              "      background-color: #434B5C;\n",
              "      box-shadow: 0px 1px 3px 1px rgba(0, 0, 0, 0.15);\n",
              "      filter: drop-shadow(0px 1px 2px rgba(0, 0, 0, 0.3));\n",
              "      fill: #FFFFFF;\n",
              "    }\n",
              "  </style>\n",
              "\n",
              "      <script>\n",
              "        const buttonEl =\n",
              "          document.querySelector('#df-4f684236-886d-4629-a93e-6f988a678439 button.colab-df-convert');\n",
              "        buttonEl.style.display =\n",
              "          google.colab.kernel.accessAllowed ? 'block' : 'none';\n",
              "\n",
              "        async function convertToInteractive(key) {\n",
              "          const element = document.querySelector('#df-4f684236-886d-4629-a93e-6f988a678439');\n",
              "          const dataTable =\n",
              "            await google.colab.kernel.invokeFunction('convertToInteractive',\n",
              "                                                     [key], {});\n",
              "          if (!dataTable) return;\n",
              "\n",
              "          const docLinkHtml = 'Like what you see? Visit the ' +\n",
              "            '<a target=\"_blank\" href=https://colab.research.google.com/notebooks/data_table.ipynb>data table notebook</a>'\n",
              "            + ' to learn more about interactive tables.';\n",
              "          element.innerHTML = '';\n",
              "          dataTable['output_type'] = 'display_data';\n",
              "          await google.colab.output.renderOutput(dataTable, element);\n",
              "          const docLink = document.createElement('div');\n",
              "          docLink.innerHTML = docLinkHtml;\n",
              "          element.appendChild(docLink);\n",
              "        }\n",
              "      </script>\n",
              "    </div>\n",
              "  </div>\n",
              "  "
            ],
            "text/plain": [
              "   creation_source  opted_in_to_mailing_list  ...  usage_length  email_provider\n",
              "0                0                         1  ...          30.0               6\n",
              "1                1                         0  ...    11750404.0               2\n",
              "2                1                         0  ...          52.0               2\n",
              "3                0                         0  ...       86428.0               6\n",
              "4                0                         0  ...      432020.0               6\n",
              "\n",
              "[5 rows x 8 columns]"
            ]
          },
          "metadata": {},
          "execution_count": 59
        }
      ]
    },
    {
      "cell_type": "markdown",
      "source": [
        "This is the fully engineered feature set. Looks good so far."
      ],
      "metadata": {
        "id": "HJyIj0pxT2bV"
      }
    },
    {
      "cell_type": "markdown",
      "source": [
        "Analysis\n",
        "\n",
        "Since we have a small feature set and sample size, Kneighbors and RandomForestClassifier are both good choices for this data set. However, we have a mix of categorical and numerical data so RandomForestClassifier will be easiest to implement."
      ],
      "metadata": {
        "id": "Rhu_ll0oT3xU"
      }
    },
    {
      "cell_type": "code",
      "source": [
        "from sklearn.model_selection import train_test_split\n",
        "\n",
        "#set up data by seperating out the labels, then split for cross validation\n",
        "data = feature_df.drop('adopted_user', axis=1)\n",
        "labels = feature_df.adopted_user\n",
        "\n",
        "X_train, y_train, X_test, y_test = train_test_split(data, labels, test_size=0.33, random_state=42)"
      ],
      "metadata": {
        "id": "Vcrd_LZCUIty"
      },
      "execution_count": 60,
      "outputs": []
    },
    {
      "cell_type": "code",
      "source": [
        "from sklearn.ensemble import RandomForestClassifier\n",
        "\n",
        "#train and test classifier\n",
        "rf = RandomForestClassifier(class_weight='balanced_subsample')\n",
        "\n",
        "rf.fit(X_train, X_test)\n",
        "\n",
        "rf.score(y_train, y_test)"
      ],
      "metadata": {
        "colab": {
          "base_uri": "https://localhost:8080/"
        },
        "id": "LwqNkbROURN-",
        "outputId": "9061182e-7152-4a64-aa50-1cad12c414a7"
      },
      "execution_count": 61,
      "outputs": [
        {
          "output_type": "execute_result",
          "data": {
            "text/plain": [
              "0.9373737373737374"
            ]
          },
          "metadata": {},
          "execution_count": 61
        }
      ]
    },
    {
      "cell_type": "markdown",
      "source": [
        "very promising results. As long as the classifier is intrepretable, it should reveal meaningful insight. Lets look at the metrics just to be sure."
      ],
      "metadata": {
        "id": "A0jyLrqhUWYO"
      }
    },
    {
      "cell_type": "code",
      "source": [
        "from sklearn.metrics import classification_report, confusion_matrix\n",
        "\n",
        "#print out classification report and confusion matrix\n",
        "y_pred = rf.predict(y_train)\n",
        "\n",
        "print(classification_report(y_test, y_pred))\n",
        "\n",
        "cm= confusion_matrix(y_test,y_pred)\n",
        "print('confusion matrix:')\n",
        "print(cm)"
      ],
      "metadata": {
        "colab": {
          "base_uri": "https://localhost:8080/"
        },
        "id": "IrHe-yVeUaT4",
        "outputId": "86a644e7-ec77-4582-eb1a-b8d4c709c1e3"
      },
      "execution_count": 62,
      "outputs": [
        {
          "output_type": "stream",
          "name": "stdout",
          "text": [
            "              precision    recall  f1-score   support\n",
            "\n",
            "           0       0.96      0.97      0.96      3460\n",
            "           1       0.78      0.70      0.74       500\n",
            "\n",
            "    accuracy                           0.94      3960\n",
            "   macro avg       0.87      0.84      0.85      3960\n",
            "weighted avg       0.94      0.94      0.94      3960\n",
            "\n",
            "confusion matrix:\n",
            "[[3361   99]\n",
            " [ 149  351]]\n"
          ]
        }
      ]
    },
    {
      "cell_type": "markdown",
      "source": [
        "considering that RandomForestClassifier is better at intrinsically describing data over predictive power, these results are very impressive, especially with imbalanced class representation. What this indicates to me is that the classifier is not overfit, making whatever feature importance it has assigned much more valid."
      ],
      "metadata": {
        "id": "q5owMeZoUmHo"
      }
    },
    {
      "cell_type": "markdown",
      "source": [
        "Feature Importance\n",
        "\n",
        "Whatever coefficients the classifier has assigned to the features will indicate which ones it found more useful in making the correct classifications."
      ],
      "metadata": {
        "id": "Uq_4dgO6Up52"
      }
    },
    {
      "cell_type": "code",
      "source": [
        "#make a df that displays the cofficients indexed by feature name\n",
        "feature_importance = pd.DataFrame()\n",
        "feature_importance['coef'] = rf.feature_importances_\n",
        "feature_importance = feature_importance.set_index(data.columns)\n",
        "feature_importance.coef.nlargest(10)"
      ],
      "metadata": {
        "colab": {
          "base_uri": "https://localhost:8080/"
        },
        "id": "Q8qhEWAhUv9k",
        "outputId": "b5328178-ed24-4f68-8664-518925239d4a"
      },
      "execution_count": 63,
      "outputs": [
        {
          "output_type": "execute_result",
          "data": {
            "text/plain": [
              "usage_length                  0.841095\n",
              "org_id                        0.050779\n",
              "invited_by_user_id            0.050558\n",
              "email_provider                0.029345\n",
              "creation_source               0.015078\n",
              "opted_in_to_mailing_list      0.006795\n",
              "enabled_for_marketing_drip    0.006349\n",
              "Name: coef, dtype: float64"
            ]
          },
          "metadata": {},
          "execution_count": 63
        }
      ]
    },
    {
      "cell_type": "code",
      "source": [
        "#plot the results\n",
        "import matplotlib.pyplot as plt\n",
        "plt.figure(figsize=(10,5))\n",
        "(feature_importance['coef']).nlargest(10).plot(kind='bar', x=feature_importance.index)\n",
        "plt.title('Random Forest Classifier Feature Importance')\n",
        "plt.ylabel('coefficient value')\n",
        "plt.show()"
      ],
      "metadata": {
        "colab": {
          "base_uri": "https://localhost:8080/",
          "height": 465
        },
        "id": "h5x0aB4_U49t",
        "outputId": "74ff1ed3-63da-4e8c-c6da-8af642bdaa0d"
      },
      "execution_count": 65,
      "outputs": [
        {
          "output_type": "display_data",
          "data": {
            "image/png": "[encoded data removed]",
            "text/plain": [
              "<Figure size 720x360 with 1 Axes>"
            ]
          },
          "metadata": {
            "needs_background": "light"
          }
        }
      ]
    },
    {
      "cell_type": "markdown",
      "source": [
        "According to this analysis, RandomForestClassifer identified how long between when a user signed up and when their last active session to be the greatest indicator of whether or not they became an adopted user. Lets see what that means in a post hoc visualization"
      ],
      "metadata": {
        "id": "gdA91u1uU_U9"
      }
    },
    {
      "cell_type": "code",
      "source": [
        "#define func to find ecdf of dataset\n",
        "def ecdf(data):\n",
        "    \"\"\"Compute ECDF for a one-dimensional array of measurements.\"\"\"\n",
        "    n = len(data)\n",
        "    x = np.sort(data)\n",
        "    y = np.arange(1, n+1) / n\n",
        "    return x, y\n",
        "adopted = feature_df.usage_length.loc[feature_df['adopted_user'] == 1]\n",
        "not_adopted = feature_df.usage_length.loc[feature_df['adopted_user'] == 0]\n",
        "#set fig size\n",
        "%matplotlib inline\n",
        "plt.figure(figsize=(10,5))\n",
        "\n",
        "x_active, y_active = ecdf(adopted)\n",
        "x_inactive, y_inactive = ecdf(not_adopted)\n",
        "\n",
        "plt.plot(x_active, y_active, marker='.', linestyle='none')\n",
        "plt.plot(x_inactive, y_inactive, marker='.', linestyle='none')\n",
        "plt.title('Length of Usage b/w Adopted and Not Adpoted Users')\n",
        "plt.xlabel('Length of Usage (Seconds)')\n",
        "plt.ylabel('ECDF')\n",
        "plt.legend(['adopted', 'not adopted'])\n",
        "plt.show()"
      ],
      "metadata": {
        "colab": {
          "base_uri": "https://localhost:8080/",
          "height": 350
        },
        "id": "OtypQyjsVH01",
        "outputId": "3263a27c-fbde-4c2c-8212-75e633085ef8"
      },
      "execution_count": 67,
      "outputs": [
        {
          "output_type": "display_data",
          "data": {
            "image/png": "[encoded data removed]",
            "text/plain": [
              "<Figure size 720x360 with 1 Axes>"
            ]
          },
          "metadata": {
            "needs_background": "light"
          }
        }
      ]
    },
    {
      "cell_type": "markdown",
      "source": [
        "Here it is apparent that at the maxium time usage of non-adopted users, approximately 60% of the active users have usage above that amount of time (approximately 230 days)."
      ],
      "metadata": {
        "id": "gtGwIx3RYFyW"
      }
    }
  ]
}